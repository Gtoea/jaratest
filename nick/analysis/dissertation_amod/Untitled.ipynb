{
 "cells": [
  {
   "cell_type": "code",
   "execution_count": 1,
   "metadata": {},
   "outputs": [
    {
     "name": "stdout",
     "output_type": "stream",
     "text": [
      "/home/nick/src/jaratest/nick/analysis/dissertation_amod\n"
     ]
    }
   ],
   "source": [
    "import os\n",
    "try:\n",
    "\tos.chdir(os.path.join(os.getcwd(), 'dissertation_amod'))\n",
    "\tprint(os.getcwd())\n",
    "except:\n",
    "\tpass"
   ]
  },
  {
   "cell_type": "markdown",
   "metadata": {},
   "source": [
    " ## Figure - single sound types"
   ]
  },
  {
   "cell_type": "code",
   "execution_count": 2,
   "metadata": {},
   "outputs": [],
   "source": [
    "import os\n",
    "import numpy as np\n",
    "from matplotlib import pyplot as plt\n",
    "import matplotlib.gridspec as gridspec\n",
    "from jaratoolbox import settings\n",
    "from jaratoolbox import extraplots\n",
    "from jaratoolbox import extrastats\n",
    "\n"
   ]
  },
  {
   "cell_type": "code",
   "execution_count": 3,
   "metadata": {},
   "outputs": [
    {
     "ename": "NameError",
     "evalue": "name 'stype' is not defined",
     "output_type": "error",
     "traceback": [
      "\u001b[0;31m\u001b[0m",
      "\u001b[0;31mNameError\u001b[0mTraceback (most recent call last)",
      "\u001b[0;32m<ipython-input-3-17b85094f465>\u001b[0m in \u001b[0;36m<module>\u001b[0;34m()\u001b[0m\n\u001b[1;32m     15\u001b[0m \u001b[0;34m\u001b[0m\u001b[0m\n\u001b[1;32m     16\u001b[0m \u001b[0;34m\u001b[0m\u001b[0m\n\u001b[0;32m---> 17\u001b[0;31m \u001b[0mmusFilename\u001b[0m \u001b[0;34m=\u001b[0m \u001b[0;34m'{}_psychometric_{}_muscimol.npz'\u001b[0m\u001b[0;34m.\u001b[0m\u001b[0mformat\u001b[0m\u001b[0;34m(\u001b[0m\u001b[0mstype\u001b[0m\u001b[0;34m,\u001b[0m \u001b[0msubject\u001b[0m\u001b[0;34m)\u001b[0m\u001b[0;34m\u001b[0m\u001b[0m\n\u001b[0m\u001b[1;32m     18\u001b[0m \u001b[0mmusFullPath\u001b[0m \u001b[0;34m=\u001b[0m \u001b[0mos\u001b[0m\u001b[0;34m.\u001b[0m\u001b[0mpath\u001b[0m\u001b[0;34m.\u001b[0m\u001b[0mjoin\u001b[0m\u001b[0;34m(\u001b[0m\u001b[0mdataDir\u001b[0m\u001b[0;34m,\u001b[0m\u001b[0mmusFilename\u001b[0m\u001b[0;34m)\u001b[0m\u001b[0;34m\u001b[0m\u001b[0m\n\u001b[1;32m     19\u001b[0m \u001b[0mmusData\u001b[0m \u001b[0;34m=\u001b[0m \u001b[0mnp\u001b[0m\u001b[0;34m.\u001b[0m\u001b[0mload\u001b[0m\u001b[0;34m(\u001b[0m\u001b[0mmusFullPath\u001b[0m\u001b[0;34m)\u001b[0m\u001b[0;34m\u001b[0m\u001b[0m\n",
      "\u001b[0;31mNameError\u001b[0m: name 'stype' is not defined"
     ]
    },
    {
     "data": {
      "text/plain": [
       "<matplotlib.figure.Figure at 0x7f386cf7e6d0>"
      ]
     },
     "metadata": {},
     "output_type": "display_data"
    }
   ],
   "source": [
    "dataDir = '/home/nick/data/dissertation_amod/'\n",
    "\n",
    "subjectsToPlot = [('amod006', 'tones'), \n",
    "                  ('amod007', 'tones'),\n",
    "                  ('amod008', 'tones'),\n",
    "                  ('amod009', 'tones')]\n",
    "\n",
    "# subject = 'amod001'\n",
    "# stype = 'am'\n",
    "\n",
    "SAVE = 0\n",
    "\n",
    "plt.clf()\n",
    "\n",
    "\n",
    "musFilename = '{}_psychometric_{}_muscimol.npz'.format(stype, subject)\n",
    "musFullPath = os.path.join(dataDir,musFilename)\n",
    "musData = np.load(musFullPath)\n",
    "\n",
    "salFilename = '{}_psychometric_{}_saline.npz'.format(stype, subject)\n",
    "salFullPath = os.path.join(dataDir,salFilename)\n",
    "salData = np.load(salFullPath)\n",
    "\n",
    "dataToPlot = [musData, salData]\n",
    "curveColors = ['r', 'k']\n",
    "plotHandles = []\n",
    "\n",
    "fontSizeLabels = 12\n",
    "fontSizeTicks = 12\n",
    "fontSizePanel = 16\n",
    "\n",
    "ax1 = plt.subplot(111)\n",
    "\n",
    "for indCond, condData in enumerate(dataToPlot):\n",
    "\n",
    "    color = curveColors[indCond]\n",
    "\n",
    "    logPossibleValues = condData['logPossibleValues']\n",
    "    estimate = condData['estimate']\n",
    "    ciHitsEachValue = condData['ciHitsEachValue']\n",
    "    fractionHitsEachValue = condData['fractionHitsEachValue']\n",
    "    possibleValues = condData['possibleValues']\n",
    "\n",
    "    xRange = logPossibleValues[-1]-logPossibleValues[1]\n",
    "\n",
    "    fitxvals = np.linspace(logPossibleValues[0]-0.1*xRange,logPossibleValues[-1]+0.1*xRange,40)\n",
    "    fityvals = extrastats.psychfun(fitxvals, *estimate)\n",
    "\n",
    "    upperWhisker = ciHitsEachValue[1,:]-fractionHitsEachValue\n",
    "    lowerWhisker = fractionHitsEachValue-ciHitsEachValue[0,:]\n",
    "\n",
    "    # ax1.hold(True)\n",
    "    (pline, pcaps, pbars) = ax1.errorbar(logPossibleValues,\n",
    "                                            100*fractionHitsEachValue,\n",
    "                                            yerr = [100*lowerWhisker, 100*upperWhisker],\n",
    "                                            ecolor=color, fmt=None, clip_on=False)\n",
    "\n",
    "    pdots = ax1.plot(logPossibleValues, 100*fractionHitsEachValue, 'o', ms=6, mec='None', mfc=color,\n",
    "                        clip_on=False)\n",
    "\n",
    "    #ax1.set_xticks(logPossibleValues)\n",
    "    #freqLabels = ['{:.03}'.format(x) for x in possibleValues/1000.0]\n",
    "    #ax1.set_xticklabels(freqLabels)\n",
    "    #ax1.set_xlabel('Frequency (kHz)', fontsize=fontSizeLabels)\n",
    "\n",
    "    pfit, = ax1.plot(fitxvals, 100*fityvals, color=color, lw=2, clip_on=False)\n",
    "    plotHandles.append(pfit)\n",
    "\n",
    "# ax1.annotate('B', xy=(labelPosX[0],labelPosY[0]), xycoords='axes fraction',\n",
    "#                 fontsize=fontSizePanel, fontweight='bold')\n",
    "\n",
    "extraplots.boxoff(ax1)\n",
    "\n",
    "xticks = ax1.get_xticks()\n",
    "newXtickLabels = np.logspace(logPossibleValues[0], logPossibleValues[-1], 3, base=2)\n",
    "# 1/0\n",
    "ax1.set_xticks(np.log2(np.array(newXtickLabels)))\n",
    "if not stype=='amp_mod':\n",
    "    ax1.set_xticklabels(['{:.3}'.format(x/1000.0) for x in newXtickLabels])\n",
    "    ax1.set_xlabel('Frequency (kHz)', fontsize=fontSizeLabels)\n",
    "    ax1.set_title(stype.capitalize())\n",
    "else:\n",
    "    ax1.set_xticklabels(['{:.3}'.format(x) for x in newXtickLabels])\n",
    "    ax1.set_xlabel('AM Rate (Hz)', fontsize=fontSizeLabels)\n",
    "    ax1.set_title(\"AM\")\n",
    "\n",
    "# ax1.set_xlim([fitxvals[0],fitxvals[-1]])\n",
    "\n",
    "ax1.set_ylim([0, 100])\n",
    "ax1.set_ylabel('Rightward trials (%)', fontsize=fontSizeLabels)\n",
    "extraplots.set_ticks_fontsize(plt.gca(),fontSizeTicks)\n",
    "ax1.set_yticks([0, 50, 100])\n",
    "\n",
    "leg = ax1.legend([plotHandles[1],plotHandles[0]],\n",
    "                 ['Saline','Muscimol'], loc='upper left', frameon=False,\n",
    "                 labelspacing=0.1, handlelength=1.5, handletextpad=0.2,\n",
    "                 borderaxespad=0.1, fontsize=12) \n",
    "plt.show()\n",
    "\n",
    "if SAVE:\n",
    "    fig = plt.gcf()\n",
    "    fig.set_size_inches(4, 4)\n",
    "    plt.tight_layout()\n",
    "    saveDir = '/home/nick/data/dissertation_amod/'\n",
    "    plt.savefig(os.path.join(saveDir, 'figure_{}_single_sound_type.png'.format(subject)))\n"
   ]
  },
  {
   "cell_type": "markdown",
   "metadata": {},
   "source": [
    " ## Calculating percent correct\n",
    "\n",
    " To get percent correct I need to go back to the code that generates the intermediate data"
   ]
  },
  {
   "cell_type": "code",
   "execution_count": 4,
   "metadata": {},
   "outputs": [],
   "source": [
    "from jaratoolbox import loadbehavior\n",
    "\n",
    "# Frequency first\n",
    "# Muscimol injected at 1mg/ml. We used lower concentrations after this.\n",
    "sessions = {'amod006':['20161003a', '20161004a'],\n",
    "            'amod007':['20161003a', '20161004a'],\n",
    "            'amod008':['20161003a', '20161004a'],\n",
    "            'amod009':['20161003a', '20161004a']}\n",
    "\n",
    "muscimol = {'amod006':[0, 1],\n",
    "            'amod007':[0, 1],\n",
    "            'amod008':[0, 1],\n",
    "            'amod009':[0, 1]}\n",
    "\n",
    "salineSessions = {animal: [session for session,\n",
    "                           mus in zip(sessions[animal],\n",
    "                                      muscimol[animal]) if mus==0]\n",
    "                  for animal in sessions.keys()}\n",
    "muscimolSessions = {animal: [session for session,\n",
    "                             mus in zip(sessions[animal],\n",
    "                                        muscimol[animal]) if mus==1]\n",
    "                    for animal in sessions.keys()}\n",
    "\n"
   ]
  },
  {
   "cell_type": "code",
   "execution_count": 5,
   "metadata": {},
   "outputs": [],
   "source": [
    "subjects = sessions.keys()\n",
    "\n",
    "numCorrectSaline = {}\n",
    "numValidSaline = {}\n",
    "\n",
    "for subject in subjects:\n",
    "    allSessions = salineSessions[subject]\n",
    "    allValid = np.empty(len(allSessions))\n",
    "    allCorrect = np.empty(len(allSessions))\n",
    "    for indSession, session in enumerate(allSessions):\n",
    "        bfile = loadbehavior.path_to_behavior_data(subject, '2afc', session)\n",
    "        bdata = loadbehavior.BehaviorData(bfile)\n",
    "\n",
    "        valid = bdata['valid']\n",
    "        correct = bdata['outcome'] == bdata.labels['outcome']['correct']\n",
    "        validCorrect = (valid & correct)\n",
    "        allValid[indSession] = sum(valid)\n",
    "        allCorrect[indSession] = sum(validCorrect)\n",
    "    numValidSaline[subject] = allValid\n",
    "    numCorrectSaline[subject] = allCorrect\n",
    "#percCorrect[indSubject, indSession] = (numCorrect/float(numValid))*100\n",
    "\n"
   ]
  },
  {
   "cell_type": "code",
   "execution_count": 6,
   "metadata": {},
   "outputs": [],
   "source": [
    "numCorrectMuscimol = {}\n",
    "numValidMuscimol = {}\n",
    "\n",
    "for subject in subjects:\n",
    "    allSessions = muscimolSessions[subject]\n",
    "    allValid = np.empty(len(allSessions))\n",
    "    allCorrect = np.empty(len(allSessions))\n",
    "    for indSession, session in enumerate(allSessions):\n",
    "        bfile = loadbehavior.path_to_behavior_data(subject, '2afc', session)\n",
    "        bdata = loadbehavior.BehaviorData(bfile)\n",
    "\n",
    "        valid = bdata['valid']\n",
    "        correct = bdata['outcome'] == bdata.labels['outcome']['correct']\n",
    "        validCorrect = (valid & correct)\n",
    "        allValid[indSession] = sum(valid)\n",
    "        allCorrect[indSession] = sum(validCorrect)\n",
    "    numValidMuscimol[subject] = allValid\n",
    "    numCorrectMuscimol[subject] = allCorrect\n"
   ]
  },
  {
   "cell_type": "markdown",
   "metadata": {},
   "source": [
    " ## Plot percent correct for muscimol and saline conditions"
   ]
  },
  {
   "cell_type": "code",
   "execution_count": 7,
   "metadata": {},
   "outputs": [
    {
     "data": {
      "image/png": "[encoded data removed]",
      "text/plain": [
       "<matplotlib.figure.Figure at 0x7f386c189490>"
      ]
     },
     "metadata": {
      "needs_background": "light"
     },
     "output_type": "display_data"
    }
   ],
   "source": [
    "from jaratoolbox import extraplots\n",
    "\n",
    "muscimolColor = 'r'\n",
    "salineColor = 'k'\n",
    "width = 0.2\n",
    "condOffset = 0.15\n",
    "ax = plt.subplot(111)\n",
    "for indSubject, subject in enumerate(subjects):\n",
    "    ax.bar(indSubject-condOffset,\n",
    "            100*np.mean(numCorrectSaline[subject]/numValidSaline[subject]),\n",
    "           width=width,\n",
    "           color=salineColor)\n",
    "    ax.bar(indSubject+condOffset,\n",
    "            100*np.mean(numCorrectMuscimol[subject]/numValidMuscimol[subject]),\n",
    "           width=width,\n",
    "           color=muscimolColor)\n",
    "    \n",
    "ax.set_xticks(range(4))\n",
    "ax.set_xlabel('Subject')\n",
    "\n",
    "ax.set_ylim([0, 100])\n",
    "ax.axhline(y=50, color='0.5', ls='--', zorder=-1)\n",
    "extraplots.boxoff(ax)\n"
   ]
  },
  {
   "cell_type": "markdown",
   "metadata": {},
   "source": [
    " #### Discrimination of sound frequency is affected by muscimol inactivation of AC during single-sound-type sessions"
   ]
  },
  {
   "cell_type": "code",
   "execution_count": 8,
   "metadata": {},
   "outputs": [],
   "source": [
    "# Muscimol injected at 1mg/ml. We used lower concentrations after this.\n",
    "sessions = {'amod001':['20160316a', '20160317a', '20160318a', '20160319a',\n",
    "                       '20160320a', '20160321a', '20160322a', '20160323a'],\n",
    "            'amod005':['20160316a', '20160317a', '20160318a', '20160319a',\n",
    "                       '20160320a', '20160321a', '20160322a', '20160323a']}\n",
    "muscimol = {'amod001':[0, 1, 0, 1, 0, 1, 0, 1],\n",
    "            'amod005':[0, 1, 0, 1, 0, 1, 0, 1]}\n",
    "\n",
    "salineSessions = {animal: [session for session,\n",
    "                           mus in zip(sessions[animal],\n",
    "                                      muscimol[animal]) if mus==0]\n",
    "                  for animal in sessions.keys()}\n",
    "muscimolSessions = {animal: [session for session,\n",
    "                             mus in zip(sessions[animal],\n",
    "                                        muscimol[animal]) if mus==1]\n",
    "                    for animal in sessions.keys()}\n",
    "\n"
   ]
  },
  {
   "cell_type": "code",
   "execution_count": 9,
   "metadata": {},
   "outputs": [],
   "source": [
    "subjects = sessions.keys()\n",
    "\n",
    "numCorrectSaline = {}\n",
    "numValidSaline = {}\n",
    "\n",
    "for subject in subjects:\n",
    "    allSessions = salineSessions[subject]\n",
    "    allValid = np.empty(len(allSessions))\n",
    "    allCorrect = np.empty(len(allSessions))\n",
    "    for indSession, session in enumerate(allSessions):\n",
    "        bfile = loadbehavior.path_to_behavior_data(subject, '2afc', session)\n",
    "        bdata = loadbehavior.BehaviorData(bfile)\n",
    "\n",
    "        valid = bdata['valid']\n",
    "        correct = bdata['outcome'] == bdata.labels['outcome']['correct']\n",
    "        validCorrect = (valid & correct)\n",
    "        allValid[indSession] = sum(valid)\n",
    "        allCorrect[indSession] = sum(validCorrect)\n",
    "    numValidSaline[subject] = allValid\n",
    "    numCorrectSaline[subject] = allCorrect\n",
    "#percCorrect[indSubject, indSession] = (numCorrect/float(numValid))*100\n",
    "\n"
   ]
  },
  {
   "cell_type": "code",
   "execution_count": 10,
   "metadata": {},
   "outputs": [],
   "source": [
    "numCorrectMuscimol = {}\n",
    "numValidMuscimol = {}\n",
    "\n",
    "for subject in subjects:\n",
    "    allSessions = muscimolSessions[subject]\n",
    "    allValid = np.empty(len(allSessions))\n",
    "    allCorrect = np.empty(len(allSessions))\n",
    "    for indSession, session in enumerate(allSessions):\n",
    "        bfile = loadbehavior.path_to_behavior_data(subject, '2afc', session)\n",
    "        bdata = loadbehavior.BehaviorData(bfile)\n",
    "\n",
    "        valid = bdata['valid']\n",
    "        correct = bdata['outcome'] == bdata.labels['outcome']['correct']\n",
    "        validCorrect = (valid & correct)\n",
    "        allValid[indSession] = sum(valid)\n",
    "        allCorrect[indSession] = sum(validCorrect)\n",
    "    numValidMuscimol[subject] = allValid\n",
    "    numCorrectMuscimol[subject] = allCorrect\n"
   ]
  },
  {
   "cell_type": "markdown",
   "metadata": {},
   "source": [
    " ## Plot percent correct for muscimol and saline conditions, AM"
   ]
  },
  {
   "cell_type": "code",
   "execution_count": 11,
   "metadata": {},
   "outputs": [
    {
     "data": {
      "image/png": "[encoded data removed]",
      "text/plain": [
       "<matplotlib.figure.Figure at 0x7f386c0e70d0>"
      ]
     },
     "metadata": {
      "needs_background": "light"
     },
     "output_type": "display_data"
    }
   ],
   "source": [
    "from jaratoolbox import extraplots\n",
    "\n",
    "muscimolColor = 'r'\n",
    "salineColor = 'k'\n",
    "width = 0.2\n",
    "condOffset = 0.15\n",
    "ax = plt.subplot(111)\n",
    "for indSubject, subject in enumerate(subjects):\n",
    "    pcSal = 100*numCorrectSaline[subject]/numValidSaline[subject],\n",
    "    ax.plot((np.ones(len(pcSal))*indSubject) - condOffset,\n",
    "           pcSal, 'k.')\n",
    "    ax.bar(indSubject-condOffset,\n",
    "           np.mean(pcSal), \n",
    "           width=width,\n",
    "           color=salineColor)\n",
    "    pcMus = 100*numCorrectMuscimol[subject]/numValidMuscimol[subject],\n",
    "    ax.plot((np.ones(len(pcMus))*indSubject) + condOffset,\n",
    "           pcMus, 'k.')\n",
    "    ax.bar(indSubject+condOffset,\n",
    "           np.mean(pcMus),\n",
    "           width=width,\n",
    "           color=muscimolColor)\n",
    "    \n",
    "ax.set_xticks(range(len(subjects)))\n",
    "ax.set_xlabel('Subject')\n",
    "\n",
    "ax.set_ylim([0, 100])\n",
    "ax.axhline(y=50, color='0.5', ls='--', zorder=-1)\n",
    "ax.set_xlim([-0.5, 1.5])\n",
    "ax.set_ylabel('Percent correct')\n",
    "extraplots.boxoff(ax)\n"
   ]
  },
  {
   "cell_type": "markdown",
   "metadata": {},
   "source": [
    " ### Put it all together\n",
    " I want to show it like this: Panel A, Tones psycurve. B: tones summary. C: AM psycurve, D: AM summary."
   ]
  }
 ],
 "metadata": {
  "file_extension": ".py",
  "kernelspec": {
   "display_name": "Python 2",
   "language": "python",
   "name": "python2"
  },
  "language_info": {
   "codemirror_mode": {
    "name": "ipython",
    "version": 2
   },
   "file_extension": ".py",
   "mimetype": "text/x-python",
   "name": "python",
   "nbconvert_exporter": "python",
   "pygments_lexer": "ipython2",
   "version": "2.7.15"
  },
  "mimetype": "text/x-python",
  "name": "python",
  "npconvert_exporter": "python",
  "pygments_lexer": "ipython2",
  "version": 2
 },
 "nbformat": 4,
 "nbformat_minor": 2
}
